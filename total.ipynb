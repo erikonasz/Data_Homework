{
 "cells": [
  {
   "attachments": {},
   "cell_type": "markdown",
   "metadata": {},
   "source": [
    "# Calculating what the correct result should be."
   ]
  },
  {
   "cell_type": "code",
   "execution_count": 6,
   "metadata": {},
   "outputs": [],
   "source": [
    "import pandas as pd\n",
    "import glob"
   ]
  },
  {
   "cell_type": "code",
   "execution_count": 7,
   "metadata": {},
   "outputs": [
    {
     "name": "stdout",
     "output_type": "stream",
     "text": [
      "         date  count\n",
      "0  2017-12-10      4\n",
      "1  2017-12-11      4\n",
      "2  2017-12-12     12\n",
      "3  2017-12-13      9\n",
      "4  2017-12-14     10\n",
      "5  2017-12-15      6\n",
      "6  2017-12-16     10\n",
      "7  2017-12-17     12\n",
      "8  2017-12-18      5\n",
      "9  2017-12-19      8\n",
      "10 2017-12-20     13\n",
      "11 2017-12-21      7\n"
     ]
    }
   ],
   "source": [
    "path = 'data/clicks/*.csv' # Define the path to the folder containing the data files\n",
    "all_files = glob.glob(path) # Read all files in that (path) folder\n",
    "\n",
    "# Create a concatenated DataFrame from all the CSV files in the folder\n",
    "df = pd.concat([pd.read_csv(f) for f in all_files]) \n",
    "\n",
    "# Convert the 'date' column to a datetime object\n",
    "df['date'] = pd.to_datetime(df['date']) # Set date column\n",
    "\n",
    "# Group the data by 'date' and calculate the count of events for each date\n",
    "counts = df.groupby(['date']).size().reset_index(name='count') # Calculate date/count set count coulmn.\n",
    "\n",
    "print(counts)\n"
   ]
  }
 ],
 "metadata": {
  "kernelspec": {
   "display_name": "Python 3",
   "language": "python",
   "name": "python3"
  },
  "language_info": {
   "codemirror_mode": {
    "name": "ipython",
    "version": 3
   },
   "file_extension": ".py",
   "mimetype": "text/x-python",
   "name": "python",
   "nbconvert_exporter": "python",
   "pygments_lexer": "ipython3",
   "version": "3.10.5"
  },
  "orig_nbformat": 4
 },
 "nbformat": 4,
 "nbformat_minor": 2
}
