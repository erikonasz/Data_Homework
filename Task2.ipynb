{
 "cells": [
  {
   "attachments": {},
   "cell_type": "markdown",
   "metadata": {},
   "source": [
    "# Task #2: join two datasets using implemented map-reduce framework"
   ]
  },
  {
   "attachments": {},
   "cell_type": "markdown",
   "metadata": {},
   "source": [
    "There are two datasets:\n",
    "\n",
    "- data/users dataset with columns \"id\" and \"country\"\n",
    "- data/clicks dataset with columns \"date\", \"user_id\" and \"click_target\"\n",
    "We'd like to produce a new dataset called data/filtered_clicks that includes only those clicks that belong to users from Lithuania (country=LT)."
   ]
  },
  {
   "attachments": {},
   "cell_type": "markdown",
   "metadata": {},
   "source": [
    "Let's import some functions and libraries from our previous task. (Task1)"
   ]
  },
  {
   "attachments": {},
   "cell_type": "markdown",
   "metadata": {},
   "source": [
    "- read_csv: to read the content of CSV files\n",
    "- group_by_key: to group mapped data by key (date or user_id)\n",
    "- write_output: to write the results to an output CSV file\n",
    "- glob: to search for files matching a specified pattern\n",
    "- os: to interact with the operating system, e.g., create directories and handle file paths"
   ]
  },
  {
   "cell_type": "code",
   "execution_count": 13,
   "metadata": {},
   "outputs": [],
   "source": [
    "import nbimporter # Import jupyter notebook functions from previous code.\n",
    "from Task1 import read_csv, group_by_key, write_output, glob, os"
   ]
  },
  {
   "cell_type": "code",
   "execution_count": 14,
   "metadata": {},
   "outputs": [],
   "source": [
    "os.makedirs('data/filtered_clicks', exist_ok=True)"
   ]
  },
  {
   "cell_type": "code",
   "execution_count": 15,
   "metadata": {},
   "outputs": [],
   "source": [
    "def map_reduce(mappers, reducer, output):\n",
    "    mapped_data = []\n",
    " \n",
    "    # For each dataset and corresponding mapper function, the data is read from CSV files, mapped using the mapper function, \n",
    "    # and then added to the mapped_data list.\n",
    "    for dataset, mapper in mappers.items():\n",
    "        data = read_csv(glob.glob(os.path.join(dataset, '*.csv')))\n",
    "        mapped_data.extend(mapper(data))\n",
    "    \n",
    "    # The grouped_data dictionary is created by calling the group_by_key function on the mapped_data list.\n",
    "    grouped_data = group_by_key(mapped_data)\n",
    "\n",
    "    reduced_data = []\n",
    "\n",
    "    # For each key and values, the reducer function is called and the result is added to the reduced_data list.\n",
    "    for key, values in grouped_data.items():\n",
    "        reduced_data.extend(reducer(key, values))\n",
    "\n",
    "    # The final output is written to the specified output file.\n",
    "    write_output(output, reduced_data, fieldnames=['date', 'user_id', 'click_target'])\n",
    "\n",
    "\n",
    "# The map_users and map_clicks functions are defined to map the user and click data, \n",
    "# They filter the data based on the specified conditions and return the mapped data.\n",
    "def map_users(users):\n",
    "    return [\n",
    "        {\"key\": user[\"id\"], \"value\": {**user, \"table\": \"users\"}}\n",
    "        for user in users if user[\"country\"] == \"LT\"\n",
    "    ]\n",
    "\n",
    "\n",
    "def map_clicks(clicks):\n",
    "    return [\n",
    "        {\"key\": click[\"user_id\"], \"value\": {**click, \"table\": \"clicks\"}}\n",
    "        for click in clicks\n",
    "    ]\n",
    "\n",
    "# reduce_join function is defined to join the user and click data based on the user_id. \n",
    "# It first finds the user data in the values and then iterates over the click data to create the final output.\n",
    "\n",
    "def reduce_join(key, values):\n",
    "    user = next((value for value in values if value[\"table\"] == \"users\"), None)\n",
    "\n",
    "    return [\n",
    "        {\"date\": click[\"date\"], \"user_id\": click[\"user_id\"], \"click_target\": click[\"click_target\"]}\n",
    "        for click in values if click[\"table\"] == \"clicks\" and user is not None\n",
    "    ]\n",
    "\n",
    "\n",
    "# function is called with the specified mappers and reducer functions, and the output file path.\n",
    "map_reduce(\n",
    "    mappers={\n",
    "        \"data/users\": map_users,\n",
    "        \"data/clicks\": map_clicks,\n",
    "    },\n",
    "    reducer=reduce_join,\n",
    "    output=\"data/filtered_clicks/filtered_output.csv\",\n",
    ")"
   ]
  },
  {
   "attachments": {},
   "cell_type": "markdown",
   "metadata": {},
   "source": [
    "This code performs a MapReduce operation on given datasets using specified mapper and reducer functions. The map_reduce function reads and processes the data, creating intermediate mapped data that is then grouped by a key. The reducer function is applied to the grouped data, and the results are written to a specified output file. The example demonstrates the usage of this framework to join and filter user and click data based on specified conditions."
   ]
  }
 ],
 "metadata": {
  "kernelspec": {
   "display_name": "Python 3",
   "language": "python",
   "name": "python3"
  },
  "language_info": {
   "codemirror_mode": {
    "name": "ipython",
    "version": 3
   },
   "file_extension": ".py",
   "mimetype": "text/x-python",
   "name": "python",
   "nbconvert_exporter": "python",
   "pygments_lexer": "ipython3",
   "version": "3.10.5"
  },
  "orig_nbformat": 4
 },
 "nbformat": 4,
 "nbformat_minor": 2
}
